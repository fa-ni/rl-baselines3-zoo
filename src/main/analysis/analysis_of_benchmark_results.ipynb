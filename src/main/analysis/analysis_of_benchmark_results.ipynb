{
 "cells": [
  {
   "cell_type": "code",
   "execution_count": null,
   "metadata": {
    "scrolled": false
   },
   "outputs": [],
   "source": [
    "import csv\n",
    "\n",
    "import numpy as np\n",
    "from scipy.stats import f_oneway\n",
    "from scipy import stats\n",
    "import matplotlib.pyplot as plt\n",
    "def read_times(file_name:str) -> list:\n",
    "    times=[]\n",
    "    with open(file_name, newline='') as csvfile:\n",
    "        reader = csv.reader(csvfile, delimiter=',', quotechar='|')\n",
    "        for row in reader:\n",
    "            times.append(row[1])\n",
    "    # delete headers\n",
    "    del times[0]\n",
    "    # delete first entry\n",
    "    del times[0]\n",
    "    return times\n",
    "\n",
    "def plot_every_item_single(data):\n",
    "    figure,axis = plt.subplots(1,3,figsize=(5,2.3\n",
    "                                        ))\n",
    "    figure.tight_layout()\n",
    "    counter=0\n",
    "    for key,value in data.items():\n",
    "        bp = axis[counter].boxplot([value])\n",
    "        axis[counter].set_title(key)\n",
    "        axis[counter].get_xaxis().set_visible(False)\n",
    "        counter=counter+1"
   ]
  },
  {
   "cell_type": "code",
   "execution_count": null,
   "metadata": {},
   "outputs": [],
   "source": [
    "# read in files\n",
    "python_times_pc=read_times(\"results/python_pc.csv\")\n",
    "py4j_times_pc=read_times(\"results/py4j_pc.csv\")\n",
    "pyjnius_times_pc=read_times(\"results/pyjnius_pc.csv\")\n",
    "python_times_pi=read_times(\"results/python_pi.csv\")\n",
    "py4j_times_pi=read_times(\"results/py4j_pi.csv\")\n",
    "pyjnius_times_pi=read_times(\"results/pyjnius_pi.csv\")\n",
    "\n",
    "# cast times to float and deduct 2.0 because of sleeping times\n",
    "python_times_pc=np.array(python_times_pc).astype(float)-2\n",
    "py4j_times_pc=np.array(py4j_times_pc).astype(float)-2\n",
    "pyjnius_times_pc=np.array(pyjnius_times_pc).astype(float)-2\n",
    "python_times_pi=np.array(python_times_pi).astype(float)-2\n",
    "py4j_times_pi=np.array(py4j_times_pi).astype(float)-2\n",
    "pyjnius_times_pi=np.array(pyjnius_times_pi).astype(float)-2\n",
    "\n",
    "name_to_data_pc={\"python\":python_times_pc,\"py4j\":py4j_times_pc,\"pyjnius\":pyjnius_times_pc}\n",
    "name_to_data_pi={\"python\":python_times_pi,\"py4j\":py4j_times_pi,\"pyjnius\":pyjnius_times_pi}\n",
    "\n",
    "plot_every_item_single(name_to_data_pc)\n",
    "plot_every_item_single(name_to_data_pi)\n",
    "\n",
    "fig, ax = plt.subplots()\n",
    "ax.boxplot(name_to_data_pc.values())\n",
    "ax.set_xticklabels(name_to_data_pc.keys())"
   ]
  },
  {
   "cell_type": "code",
   "execution_count": null,
   "metadata": {},
   "outputs": [],
   "source": [
    "def print_statistics(name_to_data):\n",
    "    for key, value in name_to_data.items():\n",
    "        print(f\"Worst Time {key}: {value.max()}\")\n",
    "        print(f\"Best Time {key}: {value.min()}\")\n",
    "        print(f\"Average Time {key}: {value.mean()}\")\n",
    "        print(f\"Standard Deviation {key}: {np.std(value)}\")\n",
    "print_statistics(name_to_data_pc)"
   ]
  },
  {
   "cell_type": "code",
   "execution_count": null,
   "metadata": {},
   "outputs": [],
   "source": [
    "# ANOVA Method with F-Test\n",
    "f_oneway(python_times_pc, py4j_times_pc,pyjnius_times_pc)"
   ]
  },
  {
   "cell_type": "code",
   "execution_count": null,
   "metadata": {},
   "outputs": [],
   "source": [
    "# Tukey HSD Test\n",
    "from statsmodels.stats.multicomp import pairwise_tukeyhsd\n",
    "\n",
    "data=python_times_pc.tolist() +pyjnius_times_pc.tolist() + py4j_times_pc.tolist()\n",
    "group1=[1 for i in range(len(python_times_pc))]\n",
    "group2=[2 for i in range(len(pyjnius_times_pc))]\n",
    "group3=[3 for i in range(len(py4j_times_pc))]\n",
    "groups=group1+group2+group3\n",
    "print(pairwise_tukeyhsd(data,groups,0.001))"
   ]
  }
 ],
 "metadata": {
  "kernelspec": {
   "display_name": "Python 3 (ipykernel)",
   "language": "python",
   "name": "python3"
  },
  "language_info": {
   "codemirror_mode": {
    "name": "ipython",
    "version": 3
   },
   "file_extension": ".py",
   "mimetype": "text/x-python",
   "name": "python",
   "nbconvert_exporter": "python",
   "pygments_lexer": "ipython3",
   "version": "3.8.0"
  }
 },
 "nbformat": 4,
 "nbformat_minor": 1
}
